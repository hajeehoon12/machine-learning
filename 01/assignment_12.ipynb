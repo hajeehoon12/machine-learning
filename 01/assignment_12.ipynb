{
 "cells": [
  {
   "cell_type": "markdown",
   "metadata": {},
   "source": [
    "# Principal Component Analysis"
   ]
  },
  {
   "cell_type": "markdown",
   "metadata": {},
   "source": [
    "## import library"
   ]
  },
  {
   "cell_type": "code",
   "execution_count": 1,
   "metadata": {},
   "outputs": [],
   "source": [
    "import numpy as np\n",
    "import matplotlib.pyplot as plt\n",
    "import matplotlib.colors as colors\n",
    "from matplotlib import cm"
   ]
  },
  {
   "cell_type": "markdown",
   "metadata": {},
   "source": [
    "## load data"
   ]
  },
  {
   "cell_type": "code",
   "execution_count": 2,
   "metadata": {},
   "outputs": [
    {
     "name": "stdout",
     "output_type": "stream",
     "text": [
      "number of data : 50\n",
      "number of feature : 2\n"
     ]
    }
   ],
   "source": [
    "fname_data  = 'assignment_12_data.txt'\n",
    "feature0    = np.genfromtxt(fname_data, delimiter=',')\n",
    "\n",
    "number_data     = np.size(feature0, 0)\n",
    "number_feature  = np.size(feature0, 1)\n",
    "\n",
    "print('number of data : {}'.format(number_data))\n",
    "print('number of feature : {}'.format(number_feature))"
   ]
  },
  {
   "cell_type": "markdown",
   "metadata": {},
   "source": [
    "## plot the input data"
   ]
  },
  {
   "cell_type": "code",
   "execution_count": 3,
   "metadata": {},
   "outputs": [
    {
     "data": {
      "image/png": "[encoded data removed]",
      "text/plain": [
       "<Figure size 576x576 with 1 Axes>"
      ]
     },
     "metadata": {
      "needs_background": "light"
     },
     "output_type": "display_data"
    }
   ],
   "source": [
    "plt.figure(figsize=(8,8))   \n",
    "plt.title('input data')\n",
    "\n",
    "x0 = feature0[:,0]\n",
    "y0 = feature0[:,1]\n",
    "\n",
    "plt.scatter(x0, y0, color='blue')\n",
    "\n",
    "plt.tight_layout()\n",
    "plt.show()"
   ]
  },
  {
   "cell_type": "markdown",
   "metadata": {},
   "source": [
    "## Normalization (Z-scoring)\n",
    "- shape of feature = $n \\times m$ where $n$ is the number of data and $m$ is the dimension of features"
   ]
  },
  {
   "cell_type": "code",
   "execution_count": 4,
   "metadata": {},
   "outputs": [
    {
     "name": "stdout",
     "output_type": "stream",
     "text": [
      "[[-0.5233151  -1.59279489]\n",
      " [ 0.46381907  0.84034673]\n",
      " [-1.14839444 -0.58316356]\n",
      " [-1.0540573  -1.27072124]\n",
      " [-0.98402134 -0.8165806 ]\n",
      " [-0.0849036   1.46633237]\n",
      " [-0.4421533  -1.35221189]\n",
      " [ 1.65512791  1.65623047]\n",
      " [-0.05199109  0.09440519]\n",
      " [ 0.49306315  0.61245716]\n",
      " [ 0.50359481  0.38972985]\n",
      " [ 0.32935312  0.45242712]\n",
      " [ 0.17431471 -0.04749279]\n",
      " [ 1.08057125 -0.33689517]\n",
      " [-0.99325269 -1.21879266]\n",
      " [ 1.41742932  1.29234548]\n",
      " [ 0.60026562  0.65385394]\n",
      " [-0.98061987 -0.37147145]\n",
      " [ 0.96523968  2.32982142]\n",
      " [ 1.02758572 -0.35168114]\n",
      " [ 1.47948257  1.65649698]\n",
      " [-0.3527074  -0.1974352 ]\n",
      " [ 1.42096858  1.10315805]\n",
      " [ 0.23612685 -0.30931705]\n",
      " [-1.25100707 -1.10383121]\n",
      " [-0.65914163 -0.05946567]\n",
      " [ 0.80965876  0.93988062]\n",
      " [ 1.55322141  0.10421644]\n",
      " [-1.00960561 -0.18146477]\n",
      " [-0.08649669  0.09630032]\n",
      " [-0.55632233  0.87867379]\n",
      " [ 1.62794193  0.51189675]\n",
      " [-0.76240011 -1.13086645]\n",
      " [ 1.15585151 -0.3178945 ]\n",
      " [-0.52859385 -0.43176032]\n",
      " [ 0.678069    1.2353336 ]\n",
      " [-1.1311115  -1.25536277]\n",
      " [ 1.30118495  0.6679095 ]\n",
      " [-1.88774615 -1.73253123]\n",
      " [ 0.28696815  0.10689134]\n",
      " [ 0.37178115  1.00958593]\n",
      " [-0.69748789 -0.55861569]\n",
      " [-0.82300666 -1.01075262]\n",
      " [ 0.53397558  0.86562502]\n",
      " [-0.8830707  -1.68050395]\n",
      " [-0.01507431  0.39968917]\n",
      " [-2.41895336 -2.09660377]\n",
      " [-1.78281708  0.06738969]\n",
      " [-0.02929162 -0.49103253]\n",
      " [ 0.97194791  1.06824617]]\n"
     ]
    }
   ],
   "source": [
    "def normalize(feature):\n",
    "\n",
    "    # ++++++++++++++++++++++++++++++++++++++++++++++++++\n",
    "    # complete the blanks\n",
    "    #\n",
    "    x = feature[:,0]\n",
    "    y = feature[:,1]\n",
    "    new_x=(x-np.mean(x))/np.std(x)\n",
    "    new_y=(y-np.mean(y))/np.std(y)\n",
    "    feature_normalize=np.zeros([np.size(feature, 0),np.size(feature, 1)])\n",
    "    feature_normalize[:,0]=new_x\n",
    "    feature_normalize[:,1]=new_y\n",
    "\n",
    "\n",
    "    #\n",
    "    # ++++++++++++++++++++++++++++++++++++++++++++++++++\n",
    "    \n",
    "    return feature_normalize#,new_x,new_y\n",
    "print(normalize(feature0))\n",
    "#print(normalize(feature0).shape)"
   ]
  },
  {
   "cell_type": "code",
   "execution_count": 5,
   "metadata": {},
   "outputs": [
    {
     "name": "stdout",
     "output_type": "stream",
     "text": [
      "-1.509903313490213e-16 -4.840572387365683e-16 -2.418953364923859 -2.0966037709840473 1.6551279054675978 2.3298214228451353\n"
     ]
    }
   ],
   "source": [
    "feature = normalize(feature0)\n",
    "\n",
    "x   = feature[:, 0]\n",
    "y   = feature[:, 1]\n",
    "\n",
    "min_x = np.min(x)\n",
    "min_y = np.min(y)\n",
    "\n",
    "max_x = np.max(x)\n",
    "max_y = np.max(y)\n",
    "print(x.mean(),y.mean(),min_x,min_y,max_x,max_y)"
   ]
  },
  {
   "cell_type": "markdown",
   "metadata": {},
   "source": [
    "## compute covariance matrix\n",
    "- shape of feature = $n \\times m$ where $n$ is the number of data and $m$ is the dimension of features"
   ]
  },
  {
   "cell_type": "code",
   "execution_count": 6,
   "metadata": {},
   "outputs": [
    {
     "name": "stdout",
     "output_type": "stream",
     "text": [
      "[[0.9999999999999999, 0.7355300038440324], [0.7355300038440324, 1.0]]\n"
     ]
    }
   ],
   "source": [
    "def compute_covariance(feature):\n",
    "\n",
    "    # ++++++++++++++++++++++++++++++++++++++++++++++++++\n",
    "    # complete the blanks\n",
    "    #\n",
    "    t=normalize(feature)\n",
    "    # k=np.size(feature, 0)\n",
    "    # Z = np.zeros([k,2,2])\n",
    "    # for i in range(k):\n",
    "    #     x=t[i][0]\n",
    "    #     y=t[i][1]\n",
    "    #     Z[i]=[[x*x,x*y],[x*y,y*y]]\n",
    "    \n",
    "    # Sigma_1=0\n",
    "    # Sigma_2=0\n",
    "    # Sigma_3=0\n",
    "    # Sigma_4=0\n",
    "    # for i in range(k):\n",
    "    #     Sigma_1+=Z[i][0][0]\n",
    "    #     Sigma_2+=Z[i][0][1]\n",
    "    #     Sigma_3+=Z[i][1][0]\n",
    "    #     Sigma_4+=Z[i][1][1]\n",
    "    # Sigma=[[Sigma_1,Sigma_2],[Sigma_3,Sigma_4]]\n",
    "    x=t[:,0]\n",
    "    y=t[:,1]\n",
    "    num=np.size(feature, 0)\n",
    "    Sigma=[[np.sum(x*x)/num,np.sum(x*y)/num],[np.sum(x*y)/num,np.sum(y*y)/num]]\n",
    "    \n",
    "    \n",
    "    #Sigma = Z.T*Z/np.size(feature, 0)\n",
    "\n",
    "\n",
    "    #\n",
    "    # ++++++++++++++++++++++++++++++++++++++++++++++++++\n",
    "\n",
    "    return Sigma\n",
    "print(compute_covariance(feature0))"
   ]
  },
  {
   "cell_type": "markdown",
   "metadata": {},
   "source": [
    "## compute principal components\n",
    "- `np.linalg.eig`\n",
    "- `argsort()`\n",
    "- return the eigenvalues and the eigenvectors in a decreasing order according to the eigenvalues"
   ]
  },
  {
   "cell_type": "code",
   "execution_count": 7,
   "metadata": {},
   "outputs": [
    {
     "name": "stdout",
     "output_type": "stream",
     "text": [
      "(array([[-1.22720503],\n",
      "       [-1.22720503]]), array([[-0.18700853],\n",
      "       [ 0.18700853]]))\n"
     ]
    }
   ],
   "source": [
    "def compute_principal_component(feature):\n",
    "\n",
    "    # ++++++++++++++++++++++++++++++++++++++++++++++++++\n",
    "    # complete the blanks\n",
    "    #\n",
    "    Sigma=compute_covariance(feature0)\n",
    "    eigenValues, eigenVectors=np.linalg.eig(Sigma)\n",
    "    idx = eigenValues.argsort()[::-1]\n",
    "    eigenValues = eigenValues[idx]\n",
    "    eigenVectors = eigenVectors[:,idx]\n",
    "    principal_component_1=(eigenValues[0]*eigenVectors[0]).reshape(2,1)\n",
    "    principal_component_2=(eigenValues[1]*eigenVectors[1]).reshape(2,1)\n",
    "    #\n",
    "    # ++++++++++++++++++++++++++++++++++++++++++++++++++\n",
    "    #return eigenValues[0],eigenVectors[0]\n",
    "    return (principal_component_1, principal_component_2)\n",
    "print(compute_principal_component(feature0))"
   ]
  },
  {
   "cell_type": "markdown",
   "metadata": {},
   "source": [
    "## compute the projection of point onto the axis\n",
    "- `np.matmul`\n",
    "- `np.dot`\n",
    "- shape of feature = $n \\times m$ where $n$ is the number of data and $m$ is the dimension of features\n",
    "- shape of vector = $m \\times 1$ where $m$ is the dimension of features"
   ]
  },
  {
   "cell_type": "code",
   "execution_count": 19,
   "metadata": {},
   "outputs": [
    {
     "name": "stdout",
     "output_type": "stream",
     "text": [
      "[[-1.058055   -1.058055  ]\n",
      " [ 0.6520829   0.6520829 ]\n",
      " [-0.865779   -0.865779  ]\n",
      " [-1.16238927 -1.16238927]\n",
      " [-0.90030097 -0.90030097]\n",
      " [ 0.69071439  0.69071439]\n",
      " [-0.8971826  -0.8971826 ]\n",
      " [ 1.65567919  1.65567919]\n",
      " [ 0.02120705  0.02120705]\n",
      " [ 0.55276016  0.55276016]\n",
      " [ 0.44666233  0.44666233]\n",
      " [ 0.39089012  0.39089012]\n",
      " [ 0.06341096  0.06341096]\n",
      " [ 0.37183804  0.37183804]\n",
      " [-1.10602267 -1.10602267]\n",
      " [ 1.3548874   1.3548874 ]\n",
      " [ 0.62705978  0.62705978]\n",
      " [-0.67604566 -0.67604566]\n",
      " [ 1.64753055  1.64753055]\n",
      " [ 0.33795229  0.33795229]\n",
      " [ 1.56798978  1.56798978]\n",
      " [-0.2750713  -0.2750713 ]\n",
      " [ 1.26206331  1.26206331]\n",
      " [-0.0365951  -0.0365951 ]\n",
      " [-1.17741914 -1.17741914]\n",
      " [-0.35930365 -0.35930365]\n",
      " [ 0.87476969  0.87476969]\n",
      " [ 0.82871892  0.82871892]\n",
      " [-0.59553519 -0.59553519]\n",
      " [ 0.00490181  0.00490181]\n",
      " [ 0.16117573  0.16117573]\n",
      " [ 1.06991934  1.06991934]\n",
      " [-0.94663328 -0.94663328]\n",
      " [ 0.41897851  0.41897851]\n",
      " [-0.48017708 -0.48017708]\n",
      " [ 0.9567013   0.9567013 ]\n",
      " [-1.19323714 -1.19323714]\n",
      " [ 0.98454723  0.98454723]\n",
      " [-1.81013869 -1.81013869]\n",
      " [ 0.19692974  0.19692974]\n",
      " [ 0.69068354  0.69068354]\n",
      " [-0.62805179 -0.62805179]\n",
      " [-0.91687964 -0.91687964]\n",
      " [ 0.6998003   0.6998003 ]\n",
      " [-1.28178733 -1.28178733]\n",
      " [ 0.19230743  0.19230743]\n",
      " [-2.25777857 -2.25777857]\n",
      " [-0.85771369 -0.85771369]\n",
      " [-0.26016207 -0.26016207]\n",
      " [ 1.02009704  1.02009704]]\n",
      "[[ 5.34739897e-01 -5.34739897e-01]\n",
      " [-1.88263833e-01  1.88263833e-01]\n",
      " [-2.82615439e-01  2.82615439e-01]\n",
      " [ 1.08331967e-01 -1.08331967e-01]\n",
      " [-8.37203723e-02  8.37203723e-02]\n",
      " [-7.75617984e-01  7.75617984e-01]\n",
      " [ 4.55029296e-01 -4.55029296e-01]\n",
      " [-5.51284376e-04  5.51284376e-04]\n",
      " [-7.31981376e-02  7.31981376e-02]\n",
      " [-5.96970076e-02  5.96970076e-02]\n",
      " [ 5.69324762e-02 -5.69324762e-02]\n",
      " [-6.15370002e-02  6.15370002e-02]\n",
      " [ 1.10903747e-01 -1.10903747e-01]\n",
      " [ 7.08733207e-01 -7.08733207e-01]\n",
      " [ 1.12769984e-01 -1.12769984e-01]\n",
      " [ 6.25419212e-02 -6.25419212e-02]\n",
      " [-2.67941638e-02  2.67941638e-02]\n",
      " [-3.04574210e-01  3.04574210e-01]\n",
      " [-6.82290870e-01  6.82290870e-01]\n",
      " [ 6.89633433e-01 -6.89633433e-01]\n",
      " [-8.85072014e-02  8.85072014e-02]\n",
      " [-7.76360996e-02  7.76360996e-02]\n",
      " [ 1.58905264e-01 -1.58905264e-01]\n",
      " [ 2.72721950e-01 -2.72721950e-01]\n",
      " [-7.35879271e-02  7.35879271e-02]\n",
      " [-2.99837980e-01  2.99837980e-01]\n",
      " [-6.51109324e-02  6.51109324e-02]\n",
      " [ 7.24502482e-01 -7.24502482e-01]\n",
      " [-4.14070420e-01  4.14070420e-01]\n",
      " [-9.13985063e-02  9.13985063e-02]\n",
      " [-7.17498064e-01  7.17498064e-01]\n",
      " [ 5.58022593e-01 -5.58022593e-01]\n",
      " [ 1.84233169e-01 -1.84233169e-01]\n",
      " [ 7.36873004e-01 -7.36873004e-01]\n",
      " [-4.84167641e-02  4.84167641e-02]\n",
      " [-2.78632303e-01  2.78632303e-01]\n",
      " [ 6.21256379e-02 -6.21256379e-02]\n",
      " [ 3.16637725e-01 -3.16637725e-01]\n",
      " [-7.76074585e-02  7.76074585e-02]\n",
      " [ 9.00384035e-02 -9.00384035e-02]\n",
      " [-3.18902387e-01  3.18902387e-01]\n",
      " [-6.94361037e-02  6.94361037e-02]\n",
      " [ 9.38729769e-02 -9.38729769e-02]\n",
      " [-1.65824719e-01  1.65824719e-01]\n",
      " [ 3.98716624e-01 -3.98716624e-01]\n",
      " [-2.07381737e-01  2.07381737e-01]\n",
      " [-1.61174797e-01  1.61174797e-01]\n",
      " [-9.25103384e-01  9.25103384e-01]\n",
      " [ 2.30870458e-01 -2.30870458e-01]\n",
      " [-4.81491299e-02  4.81491299e-02]]\n"
     ]
    }
   ],
   "source": [
    "def compute_projection_onto_line(feature, vector):\n",
    "\n",
    "    # ++++++++++++++++++++++++++++++++++++++++++++++++++\n",
    "    # complete the blanks\n",
    "    #\n",
    "    # projection_sum=feature@vector\n",
    "    # projection = np.zeros([len(feature),2])\n",
    "    \n",
    "    # k=projection_sum/(abs(vector[0])+abs(vector[1]))\n",
    "    # t0=(k*vector[0]).reshape(1,len(feature))\n",
    "    # t1=(k*vector[1]).reshape(1,len(feature))\n",
    "    # projection[:,0]=t0\n",
    "    # projection[:,1]=t1\n",
    "    x=feature[:,0]\n",
    "    y=feature[:,1]\n",
    "    projection = np.zeros([len(feature),2])\n",
    "    if (vector[0]/vector[1])==1: # principal_component1정사영\n",
    "        projection[:,0]=(x+y)/2\n",
    "        projection[:,1]=(x+y)/2\n",
    "    if (vector[0]/vector[1])==-1: # principal_component2정사영\n",
    "        projection[:,0]=(x-y)/2\n",
    "        projection[:,1]=(-x+y)/2\n",
    "    else:## 나머지경우 즉, 일반적인 경우 정사영\n",
    "        a_b=vector[0]/vector[1]\n",
    "        projection[:,0]=(a_b*y+x)/2\n",
    "        projection[:,1]=((1/a_b)*x+y)/2\n",
    "        \n",
    "    \n",
    "\n",
    "\n",
    "    #\n",
    "    # ++++++++++++++++++++++++++++++++++++++++++++++++++\n",
    "\n",
    "    return projection\n",
    "(principal_component_1, principal_component_2) = compute_principal_component(feature)\n",
    "#print(compute_projection_onto_line(normalize(feature0), principal_component_1))\n",
    "#print(principal_component_2)\n",
    "#print(compute_projection_onto_line(normalize(feature0), principal_component_2))"
   ]
  },
  {
   "cell_type": "markdown",
   "metadata": {},
   "source": [
    "## compute the principal components and the projection of feature"
   ]
  },
  {
   "cell_type": "code",
   "execution_count": 9,
   "metadata": {},
   "outputs": [],
   "source": [
    "\n",
    "(principal_component_1, principal_component_2) = compute_principal_component(feature)\n",
    "\n",
    "projection1 = compute_projection_onto_line(feature, principal_component_1)\n",
    "projection2 = compute_projection_onto_line(feature, principal_component_2)\n",
    "#print(projection2)"
   ]
  },
  {
   "cell_type": "markdown",
   "metadata": {},
   "source": [
    "---"
   ]
  },
  {
   "cell_type": "markdown",
   "metadata": {},
   "source": [
    "---"
   ]
  },
  {
   "cell_type": "markdown",
   "metadata": {},
   "source": [
    "## functions for presenting the results"
   ]
  },
  {
   "cell_type": "markdown",
   "metadata": {},
   "source": [
    "---"
   ]
  },
  {
   "cell_type": "markdown",
   "metadata": {},
   "source": [
    "---"
   ]
  },
  {
   "cell_type": "code",
   "execution_count": 10,
   "metadata": {},
   "outputs": [],
   "source": [
    "def function_result_01():\n",
    "   \n",
    "    plt.figure(figsize=(8,8))\n",
    "    plt.title('data normalized by z-scoring')\n",
    "    plt.scatter(x, y, color='blue')\n",
    "\n",
    "    plt.xlim(min_x - 0.5, max_x + 0.5)\n",
    "    plt.ylim(min_y - 0.5, max_y + 0.5)\n",
    "\n",
    "    plt.tight_layout()\n",
    "    plt.show()"
   ]
  },
  {
   "cell_type": "code",
   "execution_count": 11,
   "metadata": {},
   "outputs": [],
   "source": [
    "def function_result_02():\n",
    "\n",
    "    plt.figure(figsize=(8,8))\n",
    "    plt.title('principal components')\n",
    "\n",
    "    # ++++++++++++++++++++++++++++++++++++++++++++++++++\n",
    "    # complete the blanks\n",
    "    #\n",
    "    plt.scatter(x, y, color='blue')\n",
    "    plt.annotate('', ha = 'center', va = 'bottom',xytext = (0, 0),xy = (compute_principal_component(feature0)[0][0], compute_principal_component(feature0)[0][1]),\n",
    "    arrowprops = { 'facecolor' : 'r'}\n",
    "    )\n",
    "    plt.annotate('', ha = 'center', va = 'bottom',xytext = (0, 0),xy = (compute_principal_component(feature0)[1][0], compute_principal_component(feature0)[1][1]),\n",
    "    arrowprops = { 'facecolor' : 'g'}\n",
    "    )\n",
    "\n",
    "    #\n",
    "    # ++++++++++++++++++++++++++++++++++++++++++++++++++\n",
    "\n",
    "    plt.xlim(min_x - 0.5, max_x + 0.5)\n",
    "    plt.ylim(min_y - 0.5, max_y + 0.5)\n",
    "\n",
    "    plt.tight_layout()\n",
    "    plt.show()"
   ]
  },
  {
   "cell_type": "code",
   "execution_count": 12,
   "metadata": {},
   "outputs": [],
   "source": [
    "def function_result_03():\n",
    "\n",
    "    plt.figure(figsize=(8,8))\n",
    "    plt.title('first principle axis')\n",
    "\n",
    "    # ++++++++++++++++++++++++++++++++++++++++++++++++++\n",
    "    # complete the blanks\n",
    "    #\n",
    "\n",
    "    plt.scatter(x, y, color='blue')\n",
    "    X_3=np.linspace(-3,3,100)\n",
    "    Y_3=(X_3*compute_principal_component(feature0)[0][0]/compute_principal_component(feature0)[0][1])\n",
    "    plt.plot(X_3,Y_3,'-',color='red')\n",
    "\n",
    "\n",
    "\n",
    "    #\n",
    "    # ++++++++++++++++++++++++++++++++++++++++++++++++++\n",
    "\n",
    "    plt.xlim(min_x - 0.5, max_x + 0.5)\n",
    "    plt.ylim(min_y - 0.5, max_y + 0.5)\n",
    "\n",
    "    plt.tight_layout()\n",
    "    plt.show()"
   ]
  },
  {
   "cell_type": "code",
   "execution_count": 13,
   "metadata": {},
   "outputs": [],
   "source": [
    "def function_result_04():\n",
    "\n",
    "    plt.figure(figsize=(8,8))\n",
    "    plt.title('second principle axis')\n",
    "\n",
    "    # ++++++++++++++++++++++++++++++++++++++++++++++++++\n",
    "    # complete the blanks\n",
    "    #\n",
    "    plt.scatter(x, y, color='blue')\n",
    "    X_3=np.linspace(-3,3,100)\n",
    "    Y_3=(X_3*compute_principal_component(feature0)[1][0]/compute_principal_component(feature0)[1][1])\n",
    "    plt.plot(X_3,Y_3,'-',color='green')\n",
    "\n",
    "\n",
    "    #\n",
    "    # ++++++++++++++++++++++++++++++++++++++++++++++++++\n",
    "\n",
    "    plt.xlim(min_x - 0.5, max_x + 0.5)\n",
    "    plt.ylim(min_y - 0.5, max_y + 0.5)\n",
    "\n",
    "    plt.tight_layout()\n",
    "    plt.show()"
   ]
  },
  {
   "cell_type": "code",
   "execution_count": 14,
   "metadata": {},
   "outputs": [],
   "source": [
    "def function_result_05():\n",
    "\n",
    "    plt.figure(figsize=(8,8))\n",
    "    plt.title('projection onto the first principle axis')\n",
    "\n",
    "    # ++++++++++++++++++++++++++++++++++++++++++++++++++\n",
    "    # complete the blanks\n",
    "    #\n",
    "    plt.scatter(x, y, color='blue')\n",
    "    X_3=np.linspace(-3,3,100)\n",
    "    Y_3=(X_3*compute_principal_component(feature0)[0][0]/compute_principal_component(feature0)[0][1])\n",
    "    plt.plot(X_3,Y_3,'-',color='red')\n",
    "    \n",
    "    plt.scatter(projection1[:,0],projection1[:,1])\n",
    "\n",
    "\n",
    "    #\n",
    "    # ++++++++++++++++++++++++++++++++++++++++++++++++++\n",
    "\n",
    "    plt.xlim(min_x - 0.5, max_x + 0.5)\n",
    "    plt.ylim(min_y - 0.5, max_y + 0.5)\n",
    "\n",
    "    plt.tight_layout()\n",
    "    plt.show()\n"
   ]
  },
  {
   "cell_type": "code",
   "execution_count": 15,
   "metadata": {},
   "outputs": [],
   "source": [
    "def function_result_06():\n",
    "\n",
    "    plt.figure(figsize=(8,8))\n",
    "    plt.title('projection onto the second principle axis')\n",
    "\n",
    "    # ++++++++++++++++++++++++++++++++++++++++++++++++++\n",
    "    # complete the blanks\n",
    "    #\n",
    "    plt.scatter(x, y, color='blue')\n",
    "    X_3=np.linspace(-3,3,100)\n",
    "    Y_3=(X_3*compute_principal_component(feature0)[1][0]/compute_principal_component(feature0)[1][1])\n",
    "    plt.plot(X_3,Y_3,'-',color='green')\n",
    "    \n",
    "    plt.scatter(projection2[:,0],projection2[:,1])\n",
    "\n",
    "    #\n",
    "    # ++++++++++++++++++++++++++++++++++++++++++++++++++\n",
    "\n",
    "    plt.xlim(min_x - 0.5, max_x + 0.5)\n",
    "    plt.ylim(min_y - 0.5, max_y + 0.5)\n",
    "\n",
    "    plt.tight_layout()\n",
    "    plt.show()"
   ]
  },
  {
   "cell_type": "code",
   "execution_count": 16,
   "metadata": {},
   "outputs": [],
   "source": [
    "def function_result_07():\n",
    "\n",
    "    plt.figure(figsize=(8,8))\n",
    "    plt.title('projection onto the first principle axis')\n",
    "\n",
    "    # ++++++++++++++++++++++++++++++++++++++++++++++++++\n",
    "    # complete the blanks\n",
    "    #\n",
    "\n",
    "\n",
    "\n",
    "    #\n",
    "    # ++++++++++++++++++++++++++++++++++++++++++++++++++\n",
    "\n",
    "    plt.xlim(min_x - 0.5, max_x + 0.5)\n",
    "    plt.ylim(min_y - 0.5, max_y + 0.5)\n",
    "\n",
    "    plt.tight_layout()\n",
    "    plt.show()"
   ]
  },
  {
   "cell_type": "code",
   "execution_count": 17,
   "metadata": {},
   "outputs": [],
   "source": [
    "def function_result_08():\n",
    "\n",
    "    plt.figure(figsize=(8,8))\n",
    "    plt.title('projection to the second principle axis')\n",
    "\n",
    "    # ++++++++++++++++++++++++++++++++++++++++++++++++++\n",
    "    # complete the blanks\n",
    "    #\n",
    "\n",
    "\n",
    "\n",
    "    #\n",
    "    # ++++++++++++++++++++++++++++++++++++++++++++++++++\n",
    "\n",
    "    plt.xlim(min_x - 0.5, max_x + 0.5)\n",
    "    plt.ylim(min_y - 0.5, max_y + 0.5)\n",
    "\n",
    "    plt.tight_layout()\n",
    "    plt.show()"
   ]
  },
  {
   "cell_type": "markdown",
   "metadata": {},
   "source": [
    "---"
   ]
  },
  {
   "cell_type": "markdown",
   "metadata": {},
   "source": [
    "---"
   ]
  },
  {
   "cell_type": "markdown",
   "metadata": {},
   "source": [
    "## results"
   ]
  },
  {
   "cell_type": "markdown",
   "metadata": {},
   "source": [
    "---"
   ]
  },
  {
   "cell_type": "markdown",
   "metadata": {},
   "source": [
    "---"
   ]
  },
  {
   "cell_type": "code",
   "execution_count": 18,
   "metadata": {},
   "outputs": [
    {
     "name": "stdout",
     "output_type": "stream",
     "text": [
      "**************************************************\n",
      "## [RESULT 01]\n",
      "**************************************************\n"
     ]
    },
    {
     "data": {
      "image/png": "[encoded data removed]",
      "text/plain": [
       "<Figure size 576x576 with 1 Axes>"
      ]
     },
     "metadata": {
      "needs_background": "light"
     },
     "output_type": "display_data"
    },
    {
     "name": "stdout",
     "output_type": "stream",
     "text": [
      "**************************************************\n",
      "## [RESULT 02]\n",
      "**************************************************\n"
     ]
    },
    {
     "data": {
      "image/png": "[encoded data removed]",
      "text/plain": [
       "<Figure size 576x576 with 1 Axes>"
      ]
     },
     "metadata": {
      "needs_background": "light"
     },
     "output_type": "display_data"
    },
    {
     "name": "stdout",
     "output_type": "stream",
     "text": [
      "**************************************************\n",
      "## [RESULT 03]\n",
      "**************************************************\n"
     ]
    },
    {
     "data": {
      "image/png": "[encoded data removed]",
      "text/plain": [
       "<Figure size 576x576 with 1 Axes>"
      ]
     },
     "metadata": {
      "needs_background": "light"
     },
     "output_type": "display_data"
    },
    {
     "name": "stdout",
     "output_type": "stream",
     "text": [
      "**************************************************\n",
      "## [RESULT 04]\n",
      "**************************************************\n"
     ]
    },
    {
     "data": {
      "image/png": "[encoded data removed]",
      "text/plain": [
       "<Figure size 576x576 with 1 Axes>"
      ]
     },
     "metadata": {
      "needs_background": "light"
     },
     "output_type": "display_data"
    },
    {
     "name": "stdout",
     "output_type": "stream",
     "text": [
      "**************************************************\n",
      "## [RESULT 05]\n",
      "**************************************************\n"
     ]
    },
    {
     "data": {
      "image/png": "[encoded data removed]",
      "text/plain": [
       "<Figure size 576x576 with 1 Axes>"
      ]
     },
     "metadata": {
      "needs_background": "light"
     },
     "output_type": "display_data"
    },
    {
     "name": "stdout",
     "output_type": "stream",
     "text": [
      "**************************************************\n",
      "## [RESULT 06]\n",
      "**************************************************\n"
     ]
    },
    {
     "data": {
      "image/png": "[encoded data removed]",
      "text/plain": [
       "<Figure size 576x576 with 1 Axes>"
      ]
     },
     "metadata": {
      "needs_background": "light"
     },
     "output_type": "display_data"
    },
    {
     "name": "stdout",
     "output_type": "stream",
     "text": [
      "**************************************************\n",
      "## [RESULT 07]\n",
      "**************************************************\n"
     ]
    },
    {
     "data": {
      "image/png": "[encoded data removed]",
      "text/plain": [
       "<Figure size 576x576 with 1 Axes>"
      ]
     },
     "metadata": {
      "needs_background": "light"
     },
     "output_type": "display_data"
    },
    {
     "name": "stdout",
     "output_type": "stream",
     "text": [
      "**************************************************\n",
      "## [RESULT 08]\n",
      "**************************************************\n"
     ]
    },
    {
     "data": {
      "image/png": "[encoded data removed]",
      "text/plain": [
       "<Figure size 576x576 with 1 Axes>"
      ]
     },
     "metadata": {
      "needs_background": "light"
     },
     "output_type": "display_data"
    }
   ],
   "source": [
    "number_result = 8\n",
    "\n",
    "for i in range(number_result):\n",
    "    title = '## [RESULT {:02d}]'.format(i+1)\n",
    "    name_function = 'function_result_{:02d}()'.format(i+1)\n",
    "\n",
    "    print('**************************************************')\n",
    "    print(title)\n",
    "    print('**************************************************')\n",
    "    eval(name_function)"
   ]
  }
 ],
 "metadata": {
  "interpreter": {
   "hash": "81794d4967e6c3204c66dcd87b604927b115b27c00565d3d43f05ba2f3a2cb0d"
  },
  "kernelspec": {
   "display_name": "Python 3.9.2 64-bit",
   "language": "python",
   "name": "python3"
  },
  "language_info": {
   "codemirror_mode": {
    "name": "ipython",
    "version": 3
   },
   "file_extension": ".py",
   "mimetype": "text/x-python",
   "name": "python",
   "nbconvert_exporter": "python",
   "pygments_lexer": "ipython3",
   "version": "3.9.2"
  },
  "metadata": {
   "interpreter": {
    "hash": "aee8b7b246df8f9039afb4144a1f6fd8d2ca17a180786b69acc140d282b71a49"
   }
  }
 },
 "nbformat": 4,
 "nbformat_minor": 1
}
