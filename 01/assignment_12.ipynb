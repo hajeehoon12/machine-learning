{
 "cells": [
  {
   "cell_type": "markdown",
   "metadata": {},
   "source": [
    "# Principal Component Analysis"
   ]
  },
  {
   "cell_type": "markdown",
   "metadata": {},
   "source": [
    "## import library"
   ]
  },
  {
   "cell_type": "code",
   "execution_count": 1,
   "metadata": {},
   "outputs": [],
   "source": [
    "import numpy as np\n",
    "import matplotlib.pyplot as plt\n",
    "import matplotlib.colors as colors\n",
    "from matplotlib import cm"
   ]
  },
  {
   "cell_type": "markdown",
   "metadata": {},
   "source": [
    "## load data"
   ]
  },
  {
   "cell_type": "code",
   "execution_count": 2,
   "metadata": {},
   "outputs": [
    {
     "name": "stdout",
     "output_type": "stream",
     "text": [
      "number of data : 50\n",
      "number of feature : 2\n"
     ]
    }
   ],
   "source": [
    "fname_data  = 'assignment_12_data.txt'\n",
    "feature0    = np.genfromtxt(fname_data, delimiter=',')\n",
    "\n",
    "number_data     = np.size(feature0, 0)\n",
    "number_feature  = np.size(feature0, 1)\n",
    "\n",
    "print('number of data : {}'.format(number_data))\n",
    "print('number of feature : {}'.format(number_feature))"
   ]
  },
  {
   "cell_type": "markdown",
   "metadata": {},
   "source": [
    "## plot the input data"
   ]
  },
  {
   "cell_type": "code",
   "execution_count": 3,
   "metadata": {},
   "outputs": [
    {
     "data": {
      "image/png": "[encoded data removed]",
      "text/plain": [
       "<Figure size 576x576 with 1 Axes>"
      ]
     },
     "metadata": {
      "needs_background": "light"
     },
     "output_type": "display_data"
    }
   ],
   "source": [
    "plt.figure(figsize=(8,8))   \n",
    "plt.title('input data')\n",
    "\n",
    "x0 = feature0[:,0]\n",
    "y0 = feature0[:,1]\n",
    "\n",
    "plt.scatter(x0, y0, color='blue')\n",
    "\n",
    "plt.tight_layout()\n",
    "plt.show()"
   ]
  },
  {
   "cell_type": "markdown",
   "metadata": {},
   "source": [
    "## Normalization (Z-scoring)\n",
    "- shape of feature = $n \\times m$ where $n$ is the number of data and $m$ is the dimension of features"
   ]
  },
  {
   "cell_type": "code",
   "execution_count": 4,
   "metadata": {},
   "outputs": [
    {
     "name": "stdout",
     "output_type": "stream",
     "text": [
      "[[-0.5233151  -1.59279489]\n",
      " [ 0.46381907  0.84034673]\n",
      " [-1.14839444 -0.58316356]\n",
      " [-1.0540573  -1.27072124]\n",
      " [-0.98402134 -0.8165806 ]\n",
      " [-0.0849036   1.46633237]\n",
      " [-0.4421533  -1.35221189]\n",
      " [ 1.65512791  1.65623047]\n",
      " [-0.05199109  0.09440519]\n",
      " [ 0.49306315  0.61245716]\n",
      " [ 0.50359481  0.38972985]\n",
      " [ 0.32935312  0.45242712]\n",
      " [ 0.17431471 -0.04749279]\n",
      " [ 1.08057125 -0.33689517]\n",
      " [-0.99325269 -1.21879266]\n",
      " [ 1.41742932  1.29234548]\n",
      " [ 0.60026562  0.65385394]\n",
      " [-0.98061987 -0.37147145]\n",
      " [ 0.96523968  2.32982142]\n",
      " [ 1.02758572 -0.35168114]\n",
      " [ 1.47948257  1.65649698]\n",
      " [-0.3527074  -0.1974352 ]\n",
      " [ 1.42096858  1.10315805]\n",
      " [ 0.23612685 -0.30931705]\n",
      " [-1.25100707 -1.10383121]\n",
      " [-0.65914163 -0.05946567]\n",
      " [ 0.80965876  0.93988062]\n",
      " [ 1.55322141  0.10421644]\n",
      " [-1.00960561 -0.18146477]\n",
      " [-0.08649669  0.09630032]\n",
      " [-0.55632233  0.87867379]\n",
      " [ 1.62794193  0.51189675]\n",
      " [-0.76240011 -1.13086645]\n",
      " [ 1.15585151 -0.3178945 ]\n",
      " [-0.52859385 -0.43176032]\n",
      " [ 0.678069    1.2353336 ]\n",
      " [-1.1311115  -1.25536277]\n",
      " [ 1.30118495  0.6679095 ]\n",
      " [-1.88774615 -1.73253123]\n",
      " [ 0.28696815  0.10689134]\n",
      " [ 0.37178115  1.00958593]\n",
      " [-0.69748789 -0.55861569]\n",
      " [-0.82300666 -1.01075262]\n",
      " [ 0.53397558  0.86562502]\n",
      " [-0.8830707  -1.68050395]\n",
      " [-0.01507431  0.39968917]\n",
      " [-2.41895336 -2.09660377]\n",
      " [-1.78281708  0.06738969]\n",
      " [-0.02929162 -0.49103253]\n",
      " [ 0.97194791  1.06824617]]\n"
     ]
    }
   ],
   "source": [
    "def normalize(feature):\n",
    "\n",
    "    # ++++++++++++++++++++++++++++++++++++++++++++++++++\n",
    "    # complete the blanks\n",
    "    #\n",
    "    x = feature[:,0]\n",
    "    y = feature[:,1]\n",
    "    new_x=(x-np.mean(x))/np.std(x)\n",
    "    new_y=(y-np.mean(y))/np.std(y)\n",
    "    feature_normalize=np.zeros([np.size(feature, 0),np.size(feature, 1)])\n",
    "    feature_normalize[:,0]=new_x\n",
    "    feature_normalize[:,1]=new_y\n",
    "\n",
    "\n",
    "    #\n",
    "    # ++++++++++++++++++++++++++++++++++++++++++++++++++\n",
    "    \n",
    "    return feature_normalize#,new_x,new_y\n",
    "print(normalize(feature0))\n",
    "#print(normalize(feature0).shape)"
   ]
  },
  {
   "cell_type": "code",
   "execution_count": 5,
   "metadata": {},
   "outputs": [
    {
     "name": "stdout",
     "output_type": "stream",
     "text": [
      "-1.509903313490213e-16 -4.840572387365683e-16 -2.418953364923859 -2.0966037709840473 1.6551279054675978 2.3298214228451353\n"
     ]
    }
   ],
   "source": [
    "feature = normalize(feature0)\n",
    "\n",
    "x   = feature[:, 0]\n",
    "y   = feature[:, 1]\n",
    "\n",
    "min_x = np.min(x)\n",
    "min_y = np.min(y)\n",
    "\n",
    "max_x = np.max(x)\n",
    "max_y = np.max(y)\n",
    "print(x.mean(),y.mean(),min_x,min_y,max_x,max_y)"
   ]
  },
  {
   "cell_type": "markdown",
   "metadata": {},
   "source": [
    "## compute covariance matrix\n",
    "- shape of feature = $n \\times m$ where $n$ is the number of data and $m$ is the dimension of features"
   ]
  },
  {
   "cell_type": "code",
   "execution_count": 6,
   "metadata": {},
   "outputs": [
    {
     "name": "stdout",
     "output_type": "stream",
     "text": [
      "[[0.9999999999999999, 0.7355300038440324], [0.7355300038440324, 1.0]]\n"
     ]
    }
   ],
   "source": [
    "def compute_covariance(feature):\n",
    "\n",
    "    # ++++++++++++++++++++++++++++++++++++++++++++++++++\n",
    "    # complete the blanks\n",
    "    #\n",
    "    t=normalize(feature)\n",
    "    # k=np.size(feature, 0)\n",
    "    # Z = np.zeros([k,2,2])\n",
    "    # for i in range(k):\n",
    "    #     x=t[i][0]\n",
    "    #     y=t[i][1]\n",
    "    #     Z[i]=[[x*x,x*y],[x*y,y*y]]\n",
    "    \n",
    "    # Sigma_1=0\n",
    "    # Sigma_2=0\n",
    "    # Sigma_3=0\n",
    "    # Sigma_4=0\n",
    "    # for i in range(k):\n",
    "    #     Sigma_1+=Z[i][0][0]\n",
    "    #     Sigma_2+=Z[i][0][1]\n",
    "    #     Sigma_3+=Z[i][1][0]\n",
    "    #     Sigma_4+=Z[i][1][1]\n",
    "    # Sigma=[[Sigma_1,Sigma_2],[Sigma_3,Sigma_4]]\n",
    "    x=t[:,0]\n",
    "    y=t[:,1]\n",
    "    num=np.size(feature, 0)\n",
    "    Sigma=[[np.sum(x*x)/num,np.sum(x*y)/num],[np.sum(x*y)/num,np.sum(y*y)/num]]\n",
    "    \n",
    "    \n",
    "    #Sigma = Z.T*Z/np.size(feature, 0)\n",
    "\n",
    "\n",
    "    #\n",
    "    # ++++++++++++++++++++++++++++++++++++++++++++++++++\n",
    "\n",
    "    return Sigma\n",
    "print(compute_covariance(feature0))"
   ]
  },
  {
   "cell_type": "markdown",
   "metadata": {},
   "source": [
    "## compute principal components\n",
    "- `np.linalg.eig`\n",
    "- `argsort()`\n",
    "- return the eigenvalues and the eigenvectors in a decreasing order according to the eigenvalues"
   ]
  },
  {
   "cell_type": "code",
   "execution_count": 7,
   "metadata": {},
   "outputs": [
    {
     "name": "stdout",
     "output_type": "stream",
     "text": [
      "(array([[-1.22720503],\n",
      "       [-1.22720503]]), array([[-0.18700853],\n",
      "       [ 0.18700853]]))\n"
     ]
    }
   ],
   "source": [
    "def compute_principal_component(feature):\n",
    "\n",
    "    # ++++++++++++++++++++++++++++++++++++++++++++++++++\n",
    "    # complete the blanks\n",
    "    #\n",
    "    Sigma=compute_covariance(feature0)\n",
    "    eigenValues, eigenVectors=np.linalg.eig(Sigma)\n",
    "    idx = eigenValues.argsort()[::-1]\n",
    "    eigenValues = eigenValues[idx]\n",
    "    eigenVectors = eigenVectors[:,idx]\n",
    "    principal_component_1=(eigenValues[0]*eigenVectors[0]).reshape(2,1)\n",
    "    principal_component_2=(eigenValues[1]*eigenVectors[1]).reshape(2,1)\n",
    "    #\n",
    "    # ++++++++++++++++++++++++++++++++++++++++++++++++++\n",
    "    #return eigenValues[0],eigenVectors[0]\n",
    "    return (principal_component_1, principal_component_2)\n",
    "print(compute_principal_component(feature0))"
   ]
  },
  {
   "cell_type": "markdown",
   "metadata": {},
   "source": [
    "## compute the projection of point onto the axis\n",
    "- `np.matmul`\n",
    "- `np.dot`\n",
    "- shape of feature = $n \\times m$ where $n$ is the number of data and $m$ is the dimension of features\n",
    "- shape of vector = $m \\times 1$ where $m$ is the dimension of features"
   ]
  },
  {
   "cell_type": "code",
   "execution_count": 23,
   "metadata": {},
   "outputs": [
    {
     "name": "stdout",
     "output_type": "stream",
     "text": [
      "[[ 1.29845042  1.29845042]\n",
      " [-0.80023942 -0.80023942]\n",
      " [ 1.06248835  1.06248835]\n",
      " [ 1.42648996  1.42648996]\n",
      " [ 1.10485388  1.10485388]\n",
      " [-0.84764817 -0.84764817]\n",
      " [ 1.101027    1.101027  ]\n",
      " [-2.03185784 -2.03185784]\n",
      " [-0.0260254  -0.0260254 ]\n",
      " [-0.67835005 -0.67835005]\n",
      " [-0.54814626 -0.54814626]\n",
      " [-0.47970233 -0.47970233]\n",
      " [-0.07781825 -0.07781825]\n",
      " [-0.45632152 -0.45632152]\n",
      " [ 1.35731659  1.35731659]\n",
      " [-1.66272464 -1.66272464]\n",
      " [-0.76953092 -0.76953092]\n",
      " [ 0.82964663  0.82964663]\n",
      " [-2.02185779 -2.02185779]\n",
      " [-0.41473675 -0.41473675]\n",
      " [-1.92424495 -1.92424495]\n",
      " [ 0.33756888  0.33756888]\n",
      " [-1.54881045 -1.54881045]\n",
      " [ 0.0449097   0.0449097 ]\n",
      " [ 1.4449347   1.4449347 ]\n",
      " [ 0.44093925  0.44093925]\n",
      " [-1.07352176 -1.07352176]\n",
      " [-1.01700804 -1.01700804]\n",
      " [ 0.73084378  0.73084378]\n",
      " [-0.00601553 -0.00601553]\n",
      " [-0.19779567 -0.19779567]\n",
      " [-1.3130104  -1.3130104 ]\n",
      " [ 1.16171313  1.16171313]\n",
      " [-0.51417253 -0.51417253]\n",
      " [ 0.58927573  0.58927573]\n",
      " [-1.17406865 -1.17406865]\n",
      " [ 1.46434662  1.46434662]\n",
      " [-1.20824131 -1.20824131]\n",
      " [ 2.22141132  2.22141132]\n",
      " [-0.24167317 -0.24167317]\n",
      " [-0.84761032 -0.84761032]\n",
      " [ 0.77074832  0.77074832]\n",
      " [ 1.12519931  1.12519931]\n",
      " [-0.85879846 -0.85879846]\n",
      " [ 1.57301586  1.57301586]\n",
      " [-0.23600064 -0.23600064]\n",
      " [ 2.77075723  2.77075723]\n",
      " [ 1.05259056  1.05259056]\n",
      " [ 0.31927221  0.31927221]\n",
      " [-1.25186822 -1.25186822]]\n"
     ]
    }
   ],
   "source": [
    "def compute_projection_onto_line(feature, vector):\n",
    "\n",
    "    # ++++++++++++++++++++++++++++++++++++++++++++++++++\n",
    "    # complete the blanks\n",
    "    #\n",
    "    projection_sum=feature@vector\n",
    "    projection = np.zeros([len(feature),2])\n",
    "    k=projection_sum/(vector[0]+vector[1])\n",
    "    t0=(k*vector[0]).reshape(1,len(feature))\n",
    "    t1=(k*vector[1]).reshape(1,len(feature))\n",
    "    projection[:,0]=t0\n",
    "    projection[:,1]=t1\n",
    "\n",
    "\n",
    "    #\n",
    "    # ++++++++++++++++++++++++++++++++++++++++++++++++++\n",
    "\n",
    "    return projection\n",
    "(principal_component_1, principal_component_2) = compute_principal_component(feature)\n",
    "#print(compute_projection_onto_line(normalize(feature0), principal_component_1))\n",
    "#print(principal_component_1.shape)"
   ]
  },
  {
   "cell_type": "markdown",
   "metadata": {},
   "source": [
    "## compute the principal components and the projection of feature"
   ]
  },
  {
   "cell_type": "code",
   "execution_count": 9,
   "metadata": {},
   "outputs": [
    {
     "name": "stdout",
     "output_type": "stream",
     "text": [
      "[[ 1.29845042]\n",
      " [-0.80023942]\n",
      " [ 1.06248835]\n",
      " [ 1.42648996]\n",
      " [ 1.10485388]\n",
      " [-0.84764817]\n",
      " [ 1.101027  ]\n",
      " [-2.03185784]\n",
      " [-0.0260254 ]\n",
      " [-0.67835005]\n",
      " [-0.54814626]\n",
      " [-0.47970233]\n",
      " [-0.07781825]\n",
      " [-0.45632152]\n",
      " [ 1.35731659]\n",
      " [-1.66272464]\n",
      " [-0.76953092]\n",
      " [ 0.82964663]\n",
      " [-2.02185779]\n",
      " [-0.41473675]\n",
      " [-1.92424495]\n",
      " [ 0.33756888]\n",
      " [-1.54881045]\n",
      " [ 0.0449097 ]\n",
      " [ 1.4449347 ]\n",
      " [ 0.44093925]\n",
      " [-1.07352176]\n",
      " [-1.01700804]\n",
      " [ 0.73084378]\n",
      " [-0.00601553]\n",
      " [-0.19779567]\n",
      " [-1.3130104 ]\n",
      " [ 1.16171313]\n",
      " [-0.51417253]\n",
      " [ 0.58927573]\n",
      " [-1.17406865]\n",
      " [ 1.46434662]\n",
      " [-1.20824131]\n",
      " [ 2.22141132]\n",
      " [-0.24167317]\n",
      " [-0.84761032]\n",
      " [ 0.77074832]\n",
      " [ 1.12519931]\n",
      " [-0.85879846]\n",
      " [ 1.57301586]\n",
      " [-0.23600064]\n",
      " [ 2.77075723]\n",
      " [ 1.05259056]\n",
      " [ 0.31927221]\n",
      " [-1.25186822]]\n"
     ]
    },
    {
     "name": "stderr",
     "output_type": "stream",
     "text": [
      "C:\\Users\\hajee\\AppData\\Local\\Temp\\ipykernel_21480\\1667592324.py:8: RuntimeWarning: divide by zero encountered in true_divide\n",
      "  k=projection_sum/(vector[0]+vector[1])\n"
     ]
    }
   ],
   "source": [
    "\n",
    "(principal_component_1, principal_component_2) = compute_principal_component(feature)\n",
    "\n",
    "projection1 = compute_projection_onto_line(feature, principal_component_1)\n",
    "projection2 = compute_projection_onto_line(feature, principal_component_2)\n",
    "print(projection1)"
   ]
  },
  {
   "cell_type": "markdown",
   "metadata": {},
   "source": [
    "---"
   ]
  },
  {
   "cell_type": "markdown",
   "metadata": {},
   "source": [
    "---"
   ]
  },
  {
   "cell_type": "markdown",
   "metadata": {},
   "source": [
    "## functions for presenting the results"
   ]
  },
  {
   "cell_type": "markdown",
   "metadata": {},
   "source": [
    "---"
   ]
  },
  {
   "cell_type": "markdown",
   "metadata": {},
   "source": [
    "---"
   ]
  },
  {
   "cell_type": "code",
   "execution_count": 10,
   "metadata": {},
   "outputs": [],
   "source": [
    "def function_result_01():\n",
    "   \n",
    "    plt.figure(figsize=(8,8))\n",
    "    plt.title('data normalized by z-scoring')\n",
    "    plt.scatter(x, y, color='blue')\n",
    "\n",
    "    plt.xlim(min_x - 0.5, max_x + 0.5)\n",
    "    plt.ylim(min_y - 0.5, max_y + 0.5)\n",
    "\n",
    "    plt.tight_layout()\n",
    "    plt.show()"
   ]
  },
  {
   "cell_type": "code",
   "execution_count": 11,
   "metadata": {},
   "outputs": [],
   "source": [
    "def function_result_02():\n",
    "\n",
    "    plt.figure(figsize=(8,8))\n",
    "    plt.title('principal components')\n",
    "\n",
    "    # ++++++++++++++++++++++++++++++++++++++++++++++++++\n",
    "    # complete the blanks\n",
    "    #\n",
    "    plt.scatter(x, y, color='blue')\n",
    "    plt.annotate('', ha = 'center', va = 'bottom',xytext = (0, 0),xy = (compute_principal_component(feature0)[0][0], compute_principal_component(feature0)[0][1]),\n",
    "    arrowprops = { 'facecolor' : 'r'}\n",
    "    )\n",
    "    plt.annotate('', ha = 'center', va = 'bottom',xytext = (0, 0),xy = (compute_principal_component(feature0)[1][0], compute_principal_component(feature0)[1][1]),\n",
    "    arrowprops = { 'facecolor' : 'g'}\n",
    "    )\n",
    "\n",
    "    #\n",
    "    # ++++++++++++++++++++++++++++++++++++++++++++++++++\n",
    "\n",
    "    plt.xlim(min_x - 0.5, max_x + 0.5)\n",
    "    plt.ylim(min_y - 0.5, max_y + 0.5)\n",
    "\n",
    "    plt.tight_layout()\n",
    "    plt.show()"
   ]
  },
  {
   "cell_type": "code",
   "execution_count": 12,
   "metadata": {},
   "outputs": [],
   "source": [
    "def function_result_03():\n",
    "\n",
    "    plt.figure(figsize=(8,8))\n",
    "    plt.title('first principle axis')\n",
    "\n",
    "    # ++++++++++++++++++++++++++++++++++++++++++++++++++\n",
    "    # complete the blanks\n",
    "    #\n",
    "\n",
    "    plt.scatter(x, y, color='blue')\n",
    "    X_3=np.linspace(-3,3,100)\n",
    "    Y_3=(X_3*compute_principal_component(feature0)[0][0]/compute_principal_component(feature0)[0][1])\n",
    "    plt.plot(X_3,Y_3,'-',color='red')\n",
    "\n",
    "\n",
    "\n",
    "    #\n",
    "    # ++++++++++++++++++++++++++++++++++++++++++++++++++\n",
    "\n",
    "    plt.xlim(min_x - 0.5, max_x + 0.5)\n",
    "    plt.ylim(min_y - 0.5, max_y + 0.5)\n",
    "\n",
    "    plt.tight_layout()\n",
    "    plt.show()"
   ]
  },
  {
   "cell_type": "code",
   "execution_count": 13,
   "metadata": {},
   "outputs": [],
   "source": [
    "def function_result_04():\n",
    "\n",
    "    plt.figure(figsize=(8,8))\n",
    "    plt.title('second principle axis')\n",
    "\n",
    "    # ++++++++++++++++++++++++++++++++++++++++++++++++++\n",
    "    # complete the blanks\n",
    "    #\n",
    "    plt.scatter(x, y, color='blue')\n",
    "    X_3=np.linspace(-3,3,100)\n",
    "    Y_3=(X_3*compute_principal_component(feature0)[1][0]/compute_principal_component(feature0)[1][1])\n",
    "    plt.plot(X_3,Y_3,'-',color='green')\n",
    "\n",
    "\n",
    "    #\n",
    "    # ++++++++++++++++++++++++++++++++++++++++++++++++++\n",
    "\n",
    "    plt.xlim(min_x - 0.5, max_x + 0.5)\n",
    "    plt.ylim(min_y - 0.5, max_y + 0.5)\n",
    "\n",
    "    plt.tight_layout()\n",
    "    plt.show()"
   ]
  },
  {
   "cell_type": "code",
   "execution_count": 14,
   "metadata": {},
   "outputs": [],
   "source": [
    "def function_result_05():\n",
    "\n",
    "    plt.figure(figsize=(8,8))\n",
    "    plt.title('projection onto the first principle axis')\n",
    "\n",
    "    # ++++++++++++++++++++++++++++++++++++++++++++++++++\n",
    "    # complete the blanks\n",
    "    #\n",
    "    plt.scatter(x, y, color='blue')\n",
    "    X_3=np.linspace(-3,3,100)\n",
    "    Y_3=(X_3*compute_principal_component(feature0)[0][0]/compute_principal_component(feature0)[0][1])\n",
    "    plt.plot(X_3,Y_3,'-',color='red')\n",
    "    plt.scatter(x*compute_principal_component(feature0)[0][0],y*compute_principal_component(feature0)[0][1])\n",
    "\n",
    "\n",
    "    #\n",
    "    # ++++++++++++++++++++++++++++++++++++++++++++++++++\n",
    "\n",
    "    plt.xlim(min_x - 0.5, max_x + 0.5)\n",
    "    plt.ylim(min_y - 0.5, max_y + 0.5)\n",
    "\n",
    "    plt.tight_layout()\n",
    "    plt.show()\n"
   ]
  },
  {
   "cell_type": "code",
   "execution_count": 15,
   "metadata": {},
   "outputs": [],
   "source": [
    "def function_result_06():\n",
    "\n",
    "    plt.figure(figsize=(8,8))\n",
    "    plt.title('projection onto the second principle axis')\n",
    "\n",
    "    # ++++++++++++++++++++++++++++++++++++++++++++++++++\n",
    "    # complete the blanks\n",
    "    #\n",
    "\n",
    "\n",
    "\n",
    "    #\n",
    "    # ++++++++++++++++++++++++++++++++++++++++++++++++++\n",
    "\n",
    "    plt.xlim(min_x - 0.5, max_x + 0.5)\n",
    "    plt.ylim(min_y - 0.5, max_y + 0.5)\n",
    "\n",
    "    plt.tight_layout()\n",
    "    plt.show()"
   ]
  },
  {
   "cell_type": "code",
   "execution_count": 16,
   "metadata": {},
   "outputs": [],
   "source": [
    "def function_result_07():\n",
    "\n",
    "    plt.figure(figsize=(8,8))\n",
    "    plt.title('projection onto the first principle axis')\n",
    "\n",
    "    # ++++++++++++++++++++++++++++++++++++++++++++++++++\n",
    "    # complete the blanks\n",
    "    #\n",
    "\n",
    "\n",
    "\n",
    "    #\n",
    "    # ++++++++++++++++++++++++++++++++++++++++++++++++++\n",
    "\n",
    "    plt.xlim(min_x - 0.5, max_x + 0.5)\n",
    "    plt.ylim(min_y - 0.5, max_y + 0.5)\n",
    "\n",
    "    plt.tight_layout()\n",
    "    plt.show()"
   ]
  },
  {
   "cell_type": "code",
   "execution_count": 17,
   "metadata": {},
   "outputs": [],
   "source": [
    "def function_result_08():\n",
    "\n",
    "    plt.figure(figsize=(8,8))\n",
    "    plt.title('projection to the second principle axis')\n",
    "\n",
    "    # ++++++++++++++++++++++++++++++++++++++++++++++++++\n",
    "    # complete the blanks\n",
    "    #\n",
    "\n",
    "\n",
    "\n",
    "    #\n",
    "    # ++++++++++++++++++++++++++++++++++++++++++++++++++\n",
    "\n",
    "    plt.xlim(min_x - 0.5, max_x + 0.5)\n",
    "    plt.ylim(min_y - 0.5, max_y + 0.5)\n",
    "\n",
    "    plt.tight_layout()\n",
    "    plt.show()"
   ]
  },
  {
   "cell_type": "markdown",
   "metadata": {},
   "source": [
    "---"
   ]
  },
  {
   "cell_type": "markdown",
   "metadata": {},
   "source": [
    "---"
   ]
  },
  {
   "cell_type": "markdown",
   "metadata": {},
   "source": [
    "## results"
   ]
  },
  {
   "cell_type": "markdown",
   "metadata": {},
   "source": [
    "---"
   ]
  },
  {
   "cell_type": "markdown",
   "metadata": {},
   "source": [
    "---"
   ]
  },
  {
   "cell_type": "code",
   "execution_count": 18,
   "metadata": {},
   "outputs": [
    {
     "name": "stdout",
     "output_type": "stream",
     "text": [
      "**************************************************\n",
      "## [RESULT 01]\n",
      "**************************************************\n"
     ]
    },
    {
     "data": {
      "image/png": "[encoded data removed]",
      "text/plain": [
       "<Figure size 576x576 with 1 Axes>"
      ]
     },
     "metadata": {
      "needs_background": "light"
     },
     "output_type": "display_data"
    },
    {
     "name": "stdout",
     "output_type": "stream",
     "text": [
      "**************************************************\n",
      "## [RESULT 02]\n",
      "**************************************************\n"
     ]
    },
    {
     "data": {
      "image/png": "[encoded data removed]",
      "text/plain": [
       "<Figure size 576x576 with 1 Axes>"
      ]
     },
     "metadata": {
      "needs_background": "light"
     },
     "output_type": "display_data"
    },
    {
     "name": "stdout",
     "output_type": "stream",
     "text": [
      "**************************************************\n",
      "## [RESULT 03]\n",
      "**************************************************\n"
     ]
    },
    {
     "data": {
      "image/png": "[encoded data removed]",
      "text/plain": [
       "<Figure size 576x576 with 1 Axes>"
      ]
     },
     "metadata": {
      "needs_background": "light"
     },
     "output_type": "display_data"
    },
    {
     "name": "stdout",
     "output_type": "stream",
     "text": [
      "**************************************************\n",
      "## [RESULT 04]\n",
      "**************************************************\n"
     ]
    },
    {
     "data": {
      "image/png": "[encoded data removed]",
      "text/plain": [
       "<Figure size 576x576 with 1 Axes>"
      ]
     },
     "metadata": {
      "needs_background": "light"
     },
     "output_type": "display_data"
    },
    {
     "name": "stdout",
     "output_type": "stream",
     "text": [
      "**************************************************\n",
      "## [RESULT 05]\n",
      "**************************************************\n"
     ]
    },
    {
     "data": {
      "image/png": "[encoded data removed]",
      "text/plain": [
       "<Figure size 576x576 with 1 Axes>"
      ]
     },
     "metadata": {
      "needs_background": "light"
     },
     "output_type": "display_data"
    },
    {
     "name": "stdout",
     "output_type": "stream",
     "text": [
      "**************************************************\n",
      "## [RESULT 06]\n",
      "**************************************************\n"
     ]
    },
    {
     "data": {
      "image/png": "[encoded data removed]",
      "text/plain": [
       "<Figure size 576x576 with 1 Axes>"
      ]
     },
     "metadata": {
      "needs_background": "light"
     },
     "output_type": "display_data"
    },
    {
     "name": "stdout",
     "output_type": "stream",
     "text": [
      "**************************************************\n",
      "## [RESULT 07]\n",
      "**************************************************\n"
     ]
    },
    {
     "data": {
      "image/png": "[encoded data removed]",
      "text/plain": [
       "<Figure size 576x576 with 1 Axes>"
      ]
     },
     "metadata": {
      "needs_background": "light"
     },
     "output_type": "display_data"
    },
    {
     "name": "stdout",
     "output_type": "stream",
     "text": [
      "**************************************************\n",
      "## [RESULT 08]\n",
      "**************************************************\n"
     ]
    },
    {
     "data": {
      "image/png": "[encoded data removed]",
      "text/plain": [
       "<Figure size 576x576 with 1 Axes>"
      ]
     },
     "metadata": {
      "needs_background": "light"
     },
     "output_type": "display_data"
    }
   ],
   "source": [
    "number_result = 8\n",
    "\n",
    "for i in range(number_result):\n",
    "    title = '## [RESULT {:02d}]'.format(i+1)\n",
    "    name_function = 'function_result_{:02d}()'.format(i+1)\n",
    "\n",
    "    print('**************************************************')\n",
    "    print(title)\n",
    "    print('**************************************************')\n",
    "    eval(name_function)"
   ]
  }
 ],
 "metadata": {
  "interpreter": {
   "hash": "81794d4967e6c3204c66dcd87b604927b115b27c00565d3d43f05ba2f3a2cb0d"
  },
  "kernelspec": {
   "display_name": "Python 3.9.2 64-bit",
   "language": "python",
   "name": "python3"
  },
  "language_info": {
   "codemirror_mode": {
    "name": "ipython",
    "version": 3
   },
   "file_extension": ".py",
   "mimetype": "text/x-python",
   "name": "python",
   "nbconvert_exporter": "python",
   "pygments_lexer": "ipython3",
   "version": "3.9.2"
  },
  "metadata": {
   "interpreter": {
    "hash": "aee8b7b246df8f9039afb4144a1f6fd8d2ca17a180786b69acc140d282b71a49"
   }
  }
 },
 "nbformat": 4,
 "nbformat_minor": 1
}
